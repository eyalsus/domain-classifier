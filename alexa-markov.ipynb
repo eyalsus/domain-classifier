{
 "cells": [
  {
   "cell_type": "code",
   "execution_count": 2,
   "metadata": {},
   "outputs": [],
   "source": [
    "import pandas as pd\n",
    "import numpy as np \n",
    "from collections import Counter\n",
    "from MarkovChain import MarkovChain\n",
    "import splitter\n",
    "import tldextract\n",
    "from scipy.sparse import csr_matrix"
   ]
  },
  {
   "cell_type": "code",
   "execution_count": 3,
   "metadata": {},
   "outputs": [],
   "source": [
    "alexa_df = pd.read_csv('resources/top-1m.csv', names=['rank', 'domain'])"
   ]
  },
  {
   "cell_type": "code",
   "execution_count": null,
   "metadata": {},
   "outputs": [],
   "source": [
    "alexa_df = pd.DataFrame.from_dict([\n",
    "    {'domain': 'helloworld.com'},\n",
    "    {'domain': 'helloninja.com'},\n",
    "    {'domain': 'lovecats.com'},\n",
    "    {'domain': 'lovedogs.com'},\n",
    "    {'domain': 'lovewomen.com'},\n",
    "    {'domain': 'ninjawomen.com'},\n",
    "    {'domain': 'ninjakid.com'},\n",
    "    {'domain': 'ninjaboy.com'},\n",
    "    {'domain': 'ninjamen.com'},\n",
    "])"
   ]
  },
  {
   "cell_type": "code",
   "execution_count": 4,
   "metadata": {},
   "outputs": [
    {
     "name": "stdout",
     "output_type": "stream",
     "text": [
      "Wall time: 50.7 s\n"
     ]
    }
   ],
   "source": [
    "%%time\n",
    "round_ndigits = 8\n",
    "words_transitions_count = {}\n",
    "states_set = set()\n",
    "\n",
    "\n",
    "for domain in list(alexa_df['domain'][:1000]):\n",
    "    exr = tldextract.extract(domain)\n",
    "    words = splitter.split(exr.domain.replace('-','').replace('2', 'to').replace('4', 'for'))\n",
    "    if type(words) == list and len(words) > 1:\n",
    "        next_word = words[-1]\n",
    "        for word in reversed(words[:-1]):\n",
    "            if word not in words_transitions_count:\n",
    "                words_transitions_count[word] = Counter()\n",
    "                words_transitions_count[word][word] = 0\n",
    "            words_transitions_count[word].update({next_word: 1})\n",
    "            states_set.add(word)\n",
    "            states_set.add(next_word)\n",
    "\n",
    "words_transitions_prob = {}\n",
    "for word in words_transitions_count.keys():\n",
    "    words_transitions_prob[word] = {}\n",
    "    word_sum = sum(words_transitions_count[word].values())\n",
    "    for next_word, val in words_transitions_count[word].items():\n",
    "        words_transitions_prob[word][next_word] = round(val / word_sum, round_ndigits)\n",
    "    row_sum = round(sum(words_transitions_prob[word].values()), round_ndigits)\n",
    "    \n",
    "    if row_sum != 1:\n",
    "#         print(f'word: {word}, row_sum: {row_sum}')\n",
    "        error = round((row_sum - 1) * (10 ** round_ndigits))\n",
    "        sign = -1 if error > 0 else 1\n",
    "        adj_count = np.abs(error)\n",
    "#         print (f'sign: {sign}, adj_count: {adj_count}')\n",
    "        for key in words_transitions_prob[word]:\n",
    "#             print('pre fix:', words_transitions_prob[word][key])\n",
    "            words_transitions_prob[word][key] += sign * (10 ** (-1 * round_ndigits))\n",
    "#             print('post fix:', words_transitions_prob[word][key])\n",
    "            adj_count -= 1\n",
    "            if adj_count == 0:\n",
    "                break\n",
    "\n",
    "for state in states_set:\n",
    "    if state not in words_transitions_prob:\n",
    "        words_transitions_prob[state] = {}\n",
    "                \n",
    "df = pd.DataFrame.from_dict(words_transitions_prob).T\n",
    "df.fillna(0, inplace=True)\n",
    "transition_matrix = df[df.index].to_numpy()"
   ]
  },
  {
   "cell_type": "code",
   "execution_count": 5,
   "metadata": {},
   "outputs": [],
   "source": [
    "name_chain = MarkovChain(transition_matrix=transition_matrix, states=list(df.index))"
   ]
  },
  {
   "cell_type": "code",
   "execution_count": 6,
   "metadata": {},
   "outputs": [
    {
     "ename": "KeyError",
     "evalue": "'hello'",
     "output_type": "error",
     "traceback": [
      "\u001b[1;31m---------------------------------------------------------------------------\u001b[0m",
      "\u001b[1;31mKeyError\u001b[0m                                  Traceback (most recent call last)",
      "\u001b[1;32m<ipython-input-6-2974fc59fea7>\u001b[0m in \u001b[0;36m<module>\u001b[1;34m\u001b[0m\n\u001b[0;32m      1\u001b[0m \u001b[1;31m# name_chain = MarkovChain(transition_matrix=transition_matrix, states=['cats', 'dogs', 'love', 'ninja', 'women', 'world'])\u001b[0m\u001b[1;33m\u001b[0m\u001b[1;33m\u001b[0m\u001b[1;33m\u001b[0m\u001b[0m\n\u001b[0;32m      2\u001b[0m \u001b[1;33m\u001b[0m\u001b[0m\n\u001b[1;32m----> 3\u001b[1;33m \u001b[0mname_chain\u001b[0m\u001b[1;33m.\u001b[0m\u001b[0mnext_state\u001b[0m\u001b[1;33m(\u001b[0m\u001b[0mcurrent_state\u001b[0m\u001b[1;33m=\u001b[0m\u001b[1;34m'hello'\u001b[0m\u001b[1;33m)\u001b[0m\u001b[1;33m\u001b[0m\u001b[1;33m\u001b[0m\u001b[0m\n\u001b[0m",
      "\u001b[1;32mD:\\projects\\domain-classifier\\MarkovChain.py\u001b[0m in \u001b[0;36mnext_state\u001b[1;34m(self, current_state)\u001b[0m\n\u001b[0;32m     35\u001b[0m         return np.random.choice(\n\u001b[0;32m     36\u001b[0m          \u001b[0mself\u001b[0m\u001b[1;33m.\u001b[0m\u001b[0mstates\u001b[0m\u001b[1;33m,\u001b[0m\u001b[1;33m\u001b[0m\u001b[1;33m\u001b[0m\u001b[0m\n\u001b[1;32m---> 37\u001b[1;33m          \u001b[0mp\u001b[0m\u001b[1;33m=\u001b[0m\u001b[0mself\u001b[0m\u001b[1;33m.\u001b[0m\u001b[0mtransition_matrix\u001b[0m\u001b[1;33m[\u001b[0m\u001b[0mself\u001b[0m\u001b[1;33m.\u001b[0m\u001b[0mindex_dict\u001b[0m\u001b[1;33m[\u001b[0m\u001b[0mcurrent_state\u001b[0m\u001b[1;33m]\u001b[0m\u001b[1;33m,\u001b[0m \u001b[1;33m:\u001b[0m\u001b[1;33m]\u001b[0m\u001b[1;33m\u001b[0m\u001b[1;33m\u001b[0m\u001b[0m\n\u001b[0m\u001b[0;32m     38\u001b[0m         )\n\u001b[0;32m     39\u001b[0m \u001b[1;33m\u001b[0m\u001b[0m\n",
      "\u001b[1;31mKeyError\u001b[0m: 'hello'"
     ]
    }
   ],
   "source": [
    "# name_chain = MarkovChain(transition_matrix=transition_matrix, states=['cats', 'dogs', 'love', 'ninja', 'women', 'world'])\n",
    "\n",
    "name_chain.next_state(current_state='hello')"
   ]
  },
  {
   "cell_type": "code",
   "execution_count": 8,
   "metadata": {},
   "outputs": [
    {
     "name": "stdout",
     "output_type": "stream",
     "text": [
      "Ku\n",
      "tube\n",
      "Ku\n",
      "tube\n",
      "Ku\n",
      "Ku\n",
      "porn\n",
      "Ku\n",
      "Ku\n",
      "porn\n"
     ]
    }
   ],
   "source": [
    "for i in range(10):\n",
    "    print (name_chain.next_state('you'))"
   ]
  },
  {
   "cell_type": "code",
   "execution_count": null,
   "metadata": {},
   "outputs": [],
   "source": [
    "for i in range(transition_matrix.shape[0]):\n",
    "    print(transition_matrix[i])\n",
    "    transition_matrix[i] /= transition_matrix[i].sum()\n",
    "    print(transition_matrix[i])\n",
    "    print('----------------------------------------------------')"
   ]
  },
  {
   "cell_type": "code",
   "execution_count": null,
   "metadata": {},
   "outputs": [],
   "source": [
    "name_chain = MarkovChain(transition_matrix=transition_matrix, states=list(words_transitions_prob.keys()))"
   ]
  },
  {
   "cell_type": "code",
   "execution_count": null,
   "metadata": {},
   "outputs": [],
   "source": [
    "transition_matrix.shape"
   ]
  },
  {
   "cell_type": "code",
   "execution_count": null,
   "metadata": {},
   "outputs": [],
   "source": [
    "len(list(words_transitions_prob.keys()))"
   ]
  },
  {
   "cell_type": "code",
   "execution_count": null,
   "metadata": {},
   "outputs": [],
   "source": [
    "name_chain.next_state(current_state='you')"
   ]
  },
  {
   "cell_type": "code",
   "execution_count": null,
   "metadata": {},
   "outputs": [],
   "source": [
    "for val in words_transitions_prob['the'].values():\n",
    "    print (val)"
   ]
  },
  {
   "cell_type": "code",
   "execution_count": null,
   "metadata": {},
   "outputs": [],
   "source": [
    "sum(words_transitions_prob['the'].values())"
   ]
  },
  {
   "cell_type": "code",
   "execution_count": null,
   "metadata": {},
   "outputs": [],
   "source": [
    "for key, trans in words_transitions_prob.items():\n",
    "    print (key, sum(trans.values()))"
   ]
  },
  {
   "cell_type": "code",
   "execution_count": null,
   "metadata": {},
   "outputs": [],
   "source": [
    "transition_matrix"
   ]
  },
  {
   "cell_type": "code",
   "execution_count": null,
   "metadata": {},
   "outputs": [],
   "source": [
    "sign"
   ]
  },
  {
   "cell_type": "code",
   "execution_count": null,
   "metadata": {},
   "outputs": [],
   "source": [
    "words_transitions_prob['you']"
   ]
  },
  {
   "cell_type": "code",
   "execution_count": null,
   "metadata": {},
   "outputs": [],
   "source": [
    "d= {'a': 2, 'b': 4}"
   ]
  },
  {
   "cell_type": "code",
   "execution_count": null,
   "metadata": {},
   "outputs": [],
   "source": [
    "for key in d:\n",
    "    print (key)"
   ]
  },
  {
   "cell_type": "code",
   "execution_count": null,
   "metadata": {},
   "outputs": [],
   "source": [
    "10 ** -1 * round_ndigits"
   ]
  },
  {
   "cell_type": "code",
   "execution_count": null,
   "metadata": {},
   "outputs": [],
   "source": [
    "np.power(10, -6)"
   ]
  },
  {
   "cell_type": "code",
   "execution_count": null,
   "metadata": {},
   "outputs": [],
   "source": [
    "sum(words_transitions_prob['porn'].values())"
   ]
  },
  {
   "cell_type": "code",
   "execution_count": null,
   "metadata": {},
   "outputs": [],
   "source": [
    "round((1.0002 - 1) * 10000)"
   ]
  },
  {
   "cell_type": "code",
   "execution_count": null,
   "metadata": {},
   "outputs": [],
   "source": [
    "df = pd.DataFrame.from_dict(words_transitions_prob)\n",
    "df.fillna(0, inplace=True)\n",
    "transition_matrix = df.to_numpy()"
   ]
  },
  {
   "cell_type": "code",
   "execution_count": null,
   "metadata": {},
   "outputs": [],
   "source": [
    "sum(df['you'])"
   ]
  },
  {
   "cell_type": "code",
   "execution_count": null,
   "metadata": {},
   "outputs": [],
   "source": [
    "list(words_transitions_prob.keys())"
   ]
  },
  {
   "cell_type": "code",
   "execution_count": null,
   "metadata": {},
   "outputs": [],
   "source": [
    "transition_matrix.shape"
   ]
  },
  {
   "cell_type": "code",
   "execution_count": null,
   "metadata": {},
   "outputs": [],
   "source": [
    "name_chain = MarkovChain(transition_matrix=transition_matrix, states=list(words_transitions_prob.keys()))\n",
    "name_chain.next_state(current_state='hello')\n",
    "# predictions = []\n",
    "# for i in range(10000):\n",
    "#     y = weather_chain.next_state(current_state='Sunny')\n",
    "#     y = weather_chain.next_state(current_state=y)\n",
    "#     predictions.append(y)\n",
    "\n",
    "# # predictions = weather_chain.generate_states(current_state='Rainy', no=10000)\n",
    "# Counter(predictions)"
   ]
  },
  {
   "cell_type": "code",
   "execution_count": null,
   "metadata": {},
   "outputs": [],
   "source": []
  },
  {
   "cell_type": "code",
   "execution_count": null,
   "metadata": {},
   "outputs": [],
   "source": [
    "df = pd.DataFrame.from_dict(words_transitions)"
   ]
  },
  {
   "cell_type": "code",
   "execution_count": null,
   "metadata": {},
   "outputs": [],
   "source": [
    "df.fillna(0, inplace=True)"
   ]
  },
  {
   "cell_type": "code",
   "execution_count": null,
   "metadata": {},
   "outputs": [],
   "source": [
    "d = Counter({'a': 2, 'b': 5, 'c': 1, 'd': 2})"
   ]
  },
  {
   "cell_type": "code",
   "execution_count": null,
   "metadata": {},
   "outputs": [],
   "source": [
    "d"
   ]
  },
  {
   "cell_type": "code",
   "execution_count": null,
   "metadata": {},
   "outputs": [],
   "source": [
    "row_sum = sum(d.values())"
   ]
  },
  {
   "cell_type": "code",
   "execution_count": null,
   "metadata": {},
   "outputs": [],
   "source": [
    "for key, val in d.items():\n",
    "    d[key] = val / row_sum"
   ]
  },
  {
   "cell_type": "code",
   "execution_count": null,
   "metadata": {},
   "outputs": [],
   "source": [
    "d['a']"
   ]
  },
  {
   "cell_type": "code",
   "execution_count": null,
   "metadata": {},
   "outputs": [],
   "source": [
    "df[df['porn'] > 0]"
   ]
  }
 ],
 "metadata": {
  "kernelspec": {
   "display_name": "Python 3",
   "language": "python",
   "name": "python3"
  },
  "language_info": {
   "codemirror_mode": {
    "name": "ipython",
    "version": 3
   },
   "file_extension": ".py",
   "mimetype": "text/x-python",
   "name": "python",
   "nbconvert_exporter": "python",
   "pygments_lexer": "ipython3",
   "version": "3.7.3"
  }
 },
 "nbformat": 4,
 "nbformat_minor": 2
}
