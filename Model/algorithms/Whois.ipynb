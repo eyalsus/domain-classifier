{
 "cells": [
  {
   "cell_type": "code",
   "execution_count": 2,
   "metadata": {},
   "outputs": [
    {
     "data": {
      "text/plain": [
       "'\\nData required: Authoritative nameservers, Trigrams in domain name,\\nIP addresses of nameservers, Registrar, ASes of nameserver IP addresses\\n\\nRaw data: Authoritative nameservers, Registrar\\nEnrich: Trigrams in domain name, IP addresses of nameservers, ASes of nameserver IP addresses\\n\\n\\n\\n\\n\\n\\n'"
      ]
     },
     "execution_count": 2,
     "metadata": {},
     "output_type": "execute_result"
    }
   ],
   "source": [
    "\"\"\"\n",
    "Data required: Authoritative nameservers, Trigrams in domain name,\n",
    "IP addresses of nameservers, Registrar, ASes of nameserver IP addresses\n",
    "\n",
    "Raw data: Authoritative nameservers, Registrar\n",
    "Enrich: Trigrams in domain name, IP addresses of nameservers, ASes of nameserver IP addresses\n",
    "\"\"\""
   ]
  }
 ],
 "metadata": {
  "kernelspec": {
   "display_name": "Python 3",
   "language": "python",
   "name": "python3"
  },
  "language_info": {
   "codemirror_mode": {
    "name": "ipython",
    "version": 3
   },
   "file_extension": ".py",
   "mimetype": "text/x-python",
   "name": "python",
   "nbconvert_exporter": "python",
   "pygments_lexer": "ipython3",
   "version": "3.7.3"
  }
 },
 "nbformat": 4,
 "nbformat_minor": 2
}
