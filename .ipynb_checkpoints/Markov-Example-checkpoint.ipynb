{
 "cells": [
  {
   "cell_type": "code",
   "execution_count": 1,
   "metadata": {},
   "outputs": [],
   "source": [
    "import pandas as pd\n",
    "import numpy as np \n",
    "from collections import Counter\n",
    "from MarkovChain import MarkovChain"
   ]
  },
  {
   "cell_type": "code",
   "execution_count": 2,
   "metadata": {},
   "outputs": [],
   "source": [
    "transition_matrix = [[0.8, 0.19, 0.01],\n",
    "                     [0.2,  0.7,  0.1],\n",
    "                     [0.1,  0.2,  0.7]]"
   ]
  },
  {
   "cell_type": "code",
   "execution_count": 3,
   "metadata": {},
   "outputs": [
    {
     "data": {
      "text/plain": [
       "Counter({'Sunny': 6774, 'Rainy': 2892, 'Snowy': 334})"
      ]
     },
     "execution_count": 3,
     "metadata": {},
     "output_type": "execute_result"
    }
   ],
   "source": [
    "\n",
    "\n",
    "weather_chain = MarkovChain(transition_matrix=transition_matrix,\n",
    "                            states=['Sunny', 'Rainy', 'Snowy'])\n",
    "predictions = []\n",
    "for i in range(10000):\n",
    "    y = weather_chain.next_state(current_state='Sunny')\n",
    "    y = weather_chain.next_state(current_state=y)\n",
    "    predictions.append(y)\n",
    "\n",
    "# predictions = weather_chain.generate_states(current_state='Rainy', no=10000)\n",
    "Counter(predictions)"
   ]
  }
 ],
 "metadata": {
  "kernelspec": {
   "display_name": "Python 3",
   "language": "python",
   "name": "python3"
  },
  "language_info": {
   "codemirror_mode": {
    "name": "ipython",
    "version": 3
   },
   "file_extension": ".py",
   "mimetype": "text/x-python",
   "name": "python",
   "nbconvert_exporter": "python",
   "pygments_lexer": "ipython3",
   "version": "3.6.7"
  }
 },
 "nbformat": 4,
 "nbformat_minor": 2
}
