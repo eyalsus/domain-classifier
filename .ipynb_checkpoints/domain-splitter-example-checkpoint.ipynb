{
 "cells": [
  {
   "cell_type": "code",
   "execution_count": 1,
   "metadata": {},
   "outputs": [],
   "source": [
    "import splitter\n",
    "import tldextract"
   ]
  },
  {
   "cell_type": "code",
   "execution_count": 2,
   "metadata": {},
   "outputs": [
    {
     "name": "stderr",
     "output_type": "stream",
     "text": [
      "unable to cache TLDs in file /usr/local/lib/python3.6/dist-packages/tldextract/.tld_set: [Errno 13] Permission denied: '/usr/local/lib/python3.6/dist-packages/tldextract/.tld_set'\n"
     ]
    },
    {
     "data": {
      "text/plain": [
       "ExtractResult(subdomain='', domain='cnn', suffix='com.mx')"
      ]
     },
     "execution_count": 2,
     "metadata": {},
     "output_type": "execute_result"
    }
   ],
   "source": [
    "tldextract.extract('cnn.com.mx')"
   ]
  },
  {
   "cell_type": "code",
   "execution_count": 3,
   "metadata": {},
   "outputs": [
    {
     "name": "stdout",
     "output_type": "stream",
     "text": [
      "['ultimate', 'to', 'guitar', 'for', 'love']\n",
      "['sex', 'fora', 'll', 'of', 'you']\n",
      "['get', 'best', 'file']\n"
     ]
    }
   ],
   "source": [
    "domains = ['ultimate2guitar4love.com', 'sex4allofyou.tk', 'get-best-file.xyz']\n",
    "for domain in domains:\n",
    "    exr = tldextract.extract(domain)\n",
    "    words = splitter.split(exr.domain.replace('-','').replace('2', 'to').replace('4', 'for'))\n",
    "    print(words)"
   ]
  }
 ],
 "metadata": {
  "kernelspec": {
   "display_name": "Python 3",
   "language": "python",
   "name": "python3"
  },
  "language_info": {
   "codemirror_mode": {
    "name": "ipython",
    "version": 3
   },
   "file_extension": ".py",
   "mimetype": "text/x-python",
   "name": "python",
   "nbconvert_exporter": "python",
   "pygments_lexer": "ipython3",
   "version": "3.6.7"
  }
 },
 "nbformat": 4,
 "nbformat_minor": 2
}
